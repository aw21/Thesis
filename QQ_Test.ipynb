{
 "cells": [
  {
   "cell_type": "code",
   "execution_count": 98,
   "metadata": {},
   "outputs": [],
   "source": [
    "import asyncio\n",
    "from copra.websocket import Channel, Client\n",
    "import matplotlib.pyplot as plt\n",
    "from collections import OrderedDict\n",
    "from time import sleep\n",
    "from dateutil import parser\n",
    "import copy\n",
    "import datetime\n",
    "import itertools\n",
    "from operator import itemgetter\n",
    "import numpy as np\n",
    "from dateutil.tz import tzutc\n",
    "import math\n",
    "import pytz\n",
    "from pytz import timezone\n",
    "import pickle\n",
    "import pylab\n",
    "from scipy.stats import probplot,expon,kstest"
   ]
  },
  {
   "cell_type": "markdown",
   "metadata": {},
   "source": [
    "# Load Data"
   ]
  },
  {
   "cell_type": "code",
   "execution_count": 93,
   "metadata": {},
   "outputs": [
    {
     "data": {
      "text/plain": [
       "10798"
      ]
     },
     "execution_count": 93,
     "metadata": {},
     "output_type": "execute_result"
    }
   ],
   "source": [
    "with open('12_23_18_data.pkl','rb') as f:\n",
    "    updates,starting_time,K,starting_book,starting_ref_price = pickle.load(f)\n",
    "    \n",
    "len(updates)"
   ]
  },
  {
   "cell_type": "markdown",
   "metadata": {},
   "source": [
    "# Combine Updates that Occur At Same Time"
   ]
  },
  {
   "cell_type": "code",
   "execution_count": 94,
   "metadata": {},
   "outputs": [
    {
     "data": {
      "text/plain": [
       "10642"
      ]
     },
     "execution_count": 94,
     "metadata": {},
     "output_type": "execute_result"
    }
   ],
   "source": [
    "grouped_by_time = OrderedDict([(k, list(v)) for k, v in itertools.groupby(updates, key=lambda x:x['time'])])\n",
    "# Contains dictionary of time, reference price, order book, list of changes\n",
    "cleaned_updates = []\n",
    "for t, us in grouped_by_time.items():\n",
    "    if len(us) == 1:\n",
    "        u = us[0]\n",
    "        cleaned_updates.append(copy.copy(u))\n",
    "    else:\n",
    "        new_update = {'time': t}\n",
    "        us = sorted(us, key=lambda u:-abs(u['k']))\n",
    "        grouped_by_k = OrderedDict((k, list(v)) for k, v in itertools.groupby(us, key=lambda u:u['k']))\n",
    "        reference_k = list(grouped_by_k.keys())[0]\n",
    "        new_update['reference_price'] = grouped_by_k[reference_k][0]['reference_price']\n",
    "        new_update['LOB'] = copy.copy(grouped_by_k[reference_k][0]['LOB'])\n",
    "        events = []\n",
    "        for k in grouped_by_k:\n",
    "            combined_change = 0\n",
    "            for u in grouped_by_k[k]:\n",
    "                combined_change = combined_change + u['change']\n",
    "            events.append((k,combined_change))\n",
    "        for k,change in events:\n",
    "            new_update = copy.deepcopy(new_update)\n",
    "            new_update['k'] = k\n",
    "            new_update['change'] = change\n",
    "            cleaned_updates.append(new_update)\n",
    "\n",
    "cleaned_updates\n",
    "len(cleaned_updates)"
   ]
  },
  {
   "cell_type": "markdown",
   "metadata": {},
   "source": [
    "# Combine Orders that Occur in Quick Succession\n",
    "### (Orders that occur within 0.01 seconds of each other)"
   ]
  },
  {
   "cell_type": "code",
   "execution_count": 95,
   "metadata": {},
   "outputs": [
    {
     "data": {
      "text/plain": [
       "10223"
      ]
     },
     "execution_count": 95,
     "metadata": {},
     "output_type": "execute_result"
    }
   ],
   "source": [
    "combined_updates = []\n",
    "i = 0\n",
    "while i < len(cleaned_updates):\n",
    "    reference_price = cleaned_updates[i]['reference_price']\n",
    "    j = i\n",
    "    updates_at_reference = []\n",
    "    while (j < len(cleaned_updates)) and (cleaned_updates[j]['reference_price'] == reference_price):\n",
    "        updates_at_reference.append(cleaned_updates[j])\n",
    "        j += 1\n",
    "    updates_at_reference = sorted(updates_at_reference,key=lambda u:u['k'])\n",
    "    grouped_by_k = OrderedDict((k, list(v)) for k, v in itertools.groupby(updates_at_reference, key=lambda u:u['k']))\n",
    "    for k,us in grouped_by_k.items():\n",
    "        us = copy.deepcopy(sorted(us,key=lambda u:u['time']))\n",
    "        keep_index = [True for u in us]\n",
    "        for m in reversed(range(1,len(us))):\n",
    "            quick_same_order = (us[m]['time'] - us[m-1]['time']).total_seconds() < 0.01\n",
    "            same_sign = (us[m]['change'] * us[m-1]['change']) > 0\n",
    "            if quick_same_order and same_sign:\n",
    "                us[m-1]['change'] += us[m]['change']\n",
    "                keep_index[m] = False\n",
    "        for (u,keep) in zip(us, keep_index):\n",
    "            if keep:\n",
    "                combined_updates.append(u)\n",
    "    i = j + 1\n",
    "    \n",
    "combined_updates = sorted(combined_updates,key=lambda u:u['time'])\n",
    "len(combined_updates)"
   ]
  },
  {
   "cell_type": "markdown",
   "metadata": {},
   "source": [
    "# Calculate Average Event Size at Each Position"
   ]
  },
  {
   "cell_type": "code",
   "execution_count": 96,
   "metadata": {},
   "outputs": [
    {
     "data": {
      "image/png": "[encoded data removed]",
      "text/plain": [
       "<matplotlib.figure.Figure at 0x1a1d584278>"
      ]
     },
     "metadata": {},
     "output_type": "display_data"
    },
    {
     "data": {
      "image/png": "[encoded data removed]",
      "text/plain": [
       "<matplotlib.figure.Figure at 0x1a1a23fba8>"
      ]
     },
     "metadata": {},
     "output_type": "display_data"
    }
   ],
   "source": [
    "# Get Average Event Sizes\n",
    "event_sizes = OrderedDict([(i,[]) for i in range(-K,K+1) if i != 0])\n",
    "for update in combined_updates:\n",
    "    event_sizes[update['k']].append(abs(update['change']))\n",
    "AESs = OrderedDict([(k,0) for k in range(-K,K+1) if k != 0])\n",
    "numbers_of_events = OrderedDict([(k,0) for k in range(-K,K+1) if k != 0])\n",
    "for (k,event_sizes) in event_sizes.items():\n",
    "    AESs[k] = np.mean(event_sizes)\n",
    "    numbers_of_events[k] = len(event_sizes)\n",
    "    \n",
    "k,AES = zip(*AESs.items())\n",
    "        \n",
    "b1 = plt.bar(k, AES)\n",
    "v = plt.axvline(x=0, color='b')\n",
    "plt.xticks([i for i in range(-K,K+1)])        \n",
    "plt.title('Average Event Sizes at Each Position')\n",
    "plt.xlabel('k')\n",
    "plt.ylabel('AES')\n",
    "plt.show()\n",
    "\n",
    "k,number_of_events = zip(*numbers_of_events.items())\n",
    "b1 = plt.bar(k, number_of_events)\n",
    "v = plt.axvline(x=0, color='b')\n",
    "plt.xticks([i for i in range(-K,K+1)])        \n",
    "plt.title('Number of Events at Each Position')\n",
    "plt.xlabel('k')\n",
    "plt.ylabel('AES')\n",
    "plt.show()"
   ]
  },
  {
   "cell_type": "markdown",
   "metadata": {},
   "source": [
    "# Get time between events at each position and queue size"
   ]
  },
  {
   "cell_type": "code",
   "execution_count": 97,
   "metadata": {},
   "outputs": [],
   "source": [
    "def transform_book(book):\n",
    "    res = OrderedDict([(k,0) for k in range(-K,K+1) if k != 0])\n",
    "    for k,actual_size in book.items():\n",
    "        if math.isnan(AESs[k]):\n",
    "            size = 1\n",
    "        else:\n",
    "            size = int(actual_size / AESs[k])\n",
    "        res[k] = size\n",
    "    return res\n",
    "\n",
    "# Get times between events\n",
    "maximum_sizes = OrderedDict([(k,0) for k in range(-K,K+1) if k != 0])\n",
    "for update in combined_updates:\n",
    "    transformed_book = transform_book(update['LOB'])\n",
    "    for k,size in transformed_book.items():\n",
    "        if size > maximum_sizes[k]:\n",
    "            maximum_sizes[k] = size\n",
    "            \n",
    "time_between_events_pos = OrderedDict([(k,OrderedDict()) for k in range(-K,K+1) if k != 0])\n",
    "time_between_events_neg = OrderedDict([(k,OrderedDict()) for k in range(-K,K+1) if k != 0])\n",
    "\n",
    "for k in range(-K,K+1):\n",
    "    if k != 0:\n",
    "        for i in range(maximum_sizes[k] + 1):\n",
    "            time_between_events_pos[k][i] = []\n",
    "        for i in range(1,maximum_sizes[k] + 1):\n",
    "            time_between_events_neg[k][i] = []           \n",
    "                \n",
    "t = starting_time\n",
    "reference_change_time = t\n",
    "last_change_time_at_k = OrderedDict([(k,reference_change_time) for k in range(-K,K+1) if k != 0])\n",
    "old_reference_price = starting_ref_price\n",
    "\n",
    "for update in combined_updates:\n",
    "    reference_price = update['reference_price']\n",
    "    transformed_book = transform_book(update['LOB'])\n",
    "    t = update['time']\n",
    "    if reference_price != old_reference_price:\n",
    "        last_change_time_at_k = OrderedDict([(k,reference_change_time) for k in range(-K,K+1) if k != 0])\n",
    "        reference_change_time = t\n",
    "        old_reference_price = reference_price\n",
    "\n",
    "    k = update['k']\n",
    "    time_between_change = (t-last_change_time_at_k[k]).total_seconds()\n",
    "    size = transformed_book[k]\n",
    "    if update['change'] > 0:\n",
    "        time_between_events_pos[k][size].append(time_between_change)\n",
    "        last_change_time_at_k[k]= t\n",
    "    else:\n",
    "        if size > 0:\n",
    "            time_between_events_neg[k][size].append(time_between_change)\n",
    "            last_change_time_at_k[k] = t "
   ]
  },
  {
   "cell_type": "markdown",
   "metadata": {},
   "source": [
    "# QQ Plots of Times Between Events Compared to Exponential Distribution"
   ]
  },
  {
   "cell_type": "code",
   "execution_count": 106,
   "metadata": {},
   "outputs": [
    {
     "ename": "RuntimeError",
     "evalue": "OrderedDict mutated during iteration",
     "output_type": "error",
     "traceback": [
      "\u001b[0;31m---------------------------------------------------------------------------\u001b[0m",
      "\u001b[0;31mRuntimeError\u001b[0m                              Traceback (most recent call last)",
      "\u001b[0;32m<ipython-input-106-64b43f28b06f>\u001b[0m in \u001b[0;36m<module>\u001b[0;34m()\u001b[0m\n\u001b[1;32m      7\u001b[0m \u001b[0;34m\u001b[0m\u001b[0m\n\u001b[1;32m      8\u001b[0m \u001b[0;32mfor\u001b[0m \u001b[0mk\u001b[0m \u001b[0;32min\u001b[0m \u001b[0mtime_between_events_pos\u001b[0m\u001b[0;34m:\u001b[0m\u001b[0;34m\u001b[0m\u001b[0m\n\u001b[0;32m----> 9\u001b[0;31m     \u001b[0;32mfor\u001b[0m \u001b[0msize\u001b[0m \u001b[0;32min\u001b[0m \u001b[0mtime_between_events_pos\u001b[0m\u001b[0;34m[\u001b[0m\u001b[0mk\u001b[0m\u001b[0;34m]\u001b[0m\u001b[0;34m:\u001b[0m\u001b[0;34m\u001b[0m\u001b[0m\n\u001b[0m\u001b[1;32m     10\u001b[0m         \u001b[0;32mif\u001b[0m \u001b[0mlen\u001b[0m\u001b[0;34m(\u001b[0m\u001b[0mtime_between_events_pos\u001b[0m\u001b[0;34m[\u001b[0m\u001b[0mk\u001b[0m\u001b[0;34m]\u001b[0m\u001b[0;34m[\u001b[0m\u001b[0msize\u001b[0m\u001b[0;34m]\u001b[0m\u001b[0;34m)\u001b[0m \u001b[0;34m<\u001b[0m \u001b[0;36m10\u001b[0m\u001b[0;34m:\u001b[0m\u001b[0;34m\u001b[0m\u001b[0m\n\u001b[1;32m     11\u001b[0m             \u001b[0;32mdel\u001b[0m \u001b[0mtime_between_events_pos\u001b[0m\u001b[0;34m[\u001b[0m\u001b[0mk\u001b[0m\u001b[0;34m]\u001b[0m\u001b[0;34m[\u001b[0m\u001b[0msize\u001b[0m\u001b[0;34m]\u001b[0m\u001b[0;34m\u001b[0m\u001b[0m\n",
      "\u001b[0;31mRuntimeError\u001b[0m: OrderedDict mutated during iteration"
     ]
    }
   ],
   "source": [
    "def without_outliers(data):\n",
    "    quartiles = np.percentile(data,[25,50,75])\n",
    "    IQR = quartiles[2] - quartiles[0]\n",
    "    lower_bound = quartiles[0] - 2*IQR\n",
    "    upper_bound = quartiles[2] + 2*IQR\n",
    "    return [d for d in data if d >= lower_bound and d <= upper_bound]\n",
    "\n",
    "for k in time_between_events_pos:\n",
    "    for size in time_between_events_pos[k]:\n",
    "        if len(time_between_events_pos[k][size]) < 10:\n",
    "            del time_between_events_pos[k][size]\n",
    "            continue\n",
    "        time_between_events_pos[k][size] = without_outliers(time_between_events_pos[k][size])\n",
    "        \n",
    "for k in time_between_events_neg:\n",
    "    for size in time_between_events_neg[k]:\n",
    "        time_between_events_neg[k][size] = without_outliers(time_between_events_neg[k][size])        \n",
    "        \n",
    "for k,v in time_between_events_pos.items():\n",
    "    if k > 5 or k <= -7:\n",
    "        continue\n",
    "    for size,times in v.items():\n",
    "        n = len(times)\n",
    "        if num_all_observations < 10:\n",
    "            continue\n",
    "        print(\"k = {}, size = {}\".format(k,size))\n",
    "        print(\"Number of positive jump times: {}\".format(n))\n",
    "        num_data_points = len(times)\n",
    "        print(\"Mean: {}\".format(np.mean(times)))\n",
    "        if num_data_points < 10:\n",
    "            print(\"\\n\")\n",
    "            continue\n",
    "        probplot(times, dist=expon, plot=pylab)\n",
    "        pylab.show()\n",
    "        print(\"\\n\")\n",
    "\n",
    "for k,v in time_between_events_neg.items():\n",
    "    if k > 5 or k <= -7:\n",
    "        continue\n",
    "    for size,times in v.items():\n",
    "        n = len(times)\n",
    "        if num_all_observations < 10:\n",
    "            continue\n",
    "        print(\"k = {}, size = {}\".format(k,size))\n",
    "        print(\"Number of negative jump times: {}\".format(n))\n",
    "        num_data_points = len(times)\n",
    "        print(\"Mean: {}\".format(np.mean(times)))\n",
    "        if num_data_points < 10:\n",
    "            print(\"\\n\")\n",
    "            continue\n",
    "        probplot(times, dist=expon, plot=pylab)\n",
    "        pylab.show()\n",
    "        print(\"\\n\")"
   ]
  },
  {
   "cell_type": "code",
   "execution_count": 73,
   "metadata": {},
   "outputs": [
    {
     "ename": "NameError",
     "evalue": "name 'time_between_events_pos' is not defined",
     "output_type": "error",
     "traceback": [
      "\u001b[0;31m---------------------------------------------------------------------------\u001b[0m",
      "\u001b[0;31mNameError\u001b[0m                                 Traceback (most recent call last)",
      "\u001b[0;32m<ipython-input-73-48b2aff3a489>\u001b[0m in \u001b[0;36m<module>\u001b[0;34m()\u001b[0m\n\u001b[1;32m      2\u001b[0m     \u001b[0;32mreturn\u001b[0m \u001b[0;34m[\u001b[0m\u001b[0md\u001b[0m \u001b[0;32mfor\u001b[0m \u001b[0md\u001b[0m \u001b[0;32min\u001b[0m \u001b[0mdata\u001b[0m \u001b[0;32mif\u001b[0m \u001b[0md\u001b[0m \u001b[0;34m<=\u001b[0m \u001b[0mnp\u001b[0m\u001b[0;34m.\u001b[0m\u001b[0mmedian\u001b[0m\u001b[0;34m(\u001b[0m\u001b[0mdata\u001b[0m\u001b[0;34m)\u001b[0m\u001b[0;34m*\u001b[0m\u001b[0mmedian_multiplier\u001b[0m\u001b[0;34m]\u001b[0m\u001b[0;34m\u001b[0m\u001b[0m\n\u001b[1;32m      3\u001b[0m \u001b[0;34m\u001b[0m\u001b[0m\n\u001b[0;32m----> 4\u001b[0;31m \u001b[0;32mfor\u001b[0m \u001b[0mk\u001b[0m\u001b[0;34m,\u001b[0m\u001b[0mv\u001b[0m \u001b[0;32min\u001b[0m \u001b[0mtime_between_events_pos\u001b[0m\u001b[0;34m.\u001b[0m\u001b[0mitems\u001b[0m\u001b[0;34m(\u001b[0m\u001b[0;34m)\u001b[0m\u001b[0;34m:\u001b[0m\u001b[0;34m\u001b[0m\u001b[0m\n\u001b[0m\u001b[1;32m      5\u001b[0m     \u001b[0;32mfor\u001b[0m \u001b[0msize\u001b[0m\u001b[0;34m,\u001b[0m\u001b[0mtimes\u001b[0m \u001b[0;32min\u001b[0m \u001b[0mv\u001b[0m\u001b[0;34m.\u001b[0m\u001b[0mitems\u001b[0m\u001b[0;34m(\u001b[0m\u001b[0;34m)\u001b[0m\u001b[0;34m:\u001b[0m\u001b[0;34m\u001b[0m\u001b[0m\n\u001b[1;32m      6\u001b[0m         \u001b[0mprint\u001b[0m\u001b[0;34m(\u001b[0m\u001b[0;34m\"k = {}, size = {}\"\u001b[0m\u001b[0;34m.\u001b[0m\u001b[0mformat\u001b[0m\u001b[0;34m(\u001b[0m\u001b[0mk\u001b[0m\u001b[0;34m,\u001b[0m\u001b[0msize\u001b[0m\u001b[0;34m)\u001b[0m\u001b[0;34m)\u001b[0m\u001b[0;34m\u001b[0m\u001b[0m\n",
      "\u001b[0;31mNameError\u001b[0m: name 'time_between_events_pos' is not defined"
     ]
    }
   ],
   "source": [
    "def without_outliers(data):\n",
    "    return [d for d in data if d <= np.median(data)*median_multiplier]\n",
    "    \n",
    "for k,v in time_between_events_pos.items():\n",
    "    for size,times in v.items():\n",
    "        print(\"k = {}, size = {}\".format(k,size))\n",
    "        num_all_observations = len(times)\n",
    "        print(\"Number of positive jump times: {}\".format(num_all_observations))\n",
    "        times = without_outliers(times)\n",
    "        num_data_points = len(times)\n",
    "        print(\"Number of outliers: {}\".format(num_data_points - num_all_observations))\n",
    "        print(\"Mean: {}\".format(np.mean(times)))\n",
    "        if num_data_points < 10:\n",
    "            continue\n",
    "        stats.probplot(data, dist=stats.expon, plot=pylab)\n",
    "        pylab.show()\n",
    "        print(\"\\n\")"
   ]
  },
  {
   "cell_type": "code",
   "execution_count": null,
   "metadata": {
    "collapsed": true
   },
   "outputs": [],
   "source": [
    "for k,v in time_between_events_neg.items():\n",
    "    for size,times in v.items():\n",
    "        print(\"k = {}, size = {}\".format(k,size))\n",
    "        num_all_observations = len(times)\n",
    "        print(\"Number of positive jump times: {}\".format(num_all_observations))\n",
    "        times = without_outliers(times)\n",
    "        num_data_points = len(times)\n",
    "        print(\"Number of outliers: {}\".format(num_data_points - num_all_observations))\n",
    "        if num_data_points < 10:\n",
    "            continue\n",
    "        stats.probplot(data, dist=stats.expon, plot=pylab)\n",
    "        pylab.show()\n",
    "        print(\"\\n\")"
   ]
  },
  {
   "cell_type": "code",
   "execution_count": 60,
   "metadata": {},
   "outputs": [
    {
     "data": {
      "text/plain": [
       "[0.001,\n",
       " 0.001,\n",
       " 0.013,\n",
       " 0.016,\n",
       " 0.028,\n",
       " 0.029,\n",
       " 0.056,\n",
       " 0.057,\n",
       " 0.059,\n",
       " 0.091,\n",
       " 0.218,\n",
       " 0.222,\n",
       " 0.29,\n",
       " 0.338,\n",
       " 0.642,\n",
       " 0.984,\n",
       " 0.986,\n",
       " 0.989,\n",
       " 0.992,\n",
       " 1.011,\n",
       " 1.462]"
      ]
     },
     "execution_count": 60,
     "metadata": {},
     "output_type": "execute_result"
    }
   ],
   "source": [
    "data = sorted([0.056, 0.059, 0.016, 0.29, 1.011, \\\n",
    "        0.001, 0.029, 0.028, 0.218, .338, \\\n",
    "        0.222, 0.642, 1.978, 0.989, 0.992, 0.984, 0.091, 1.98, \\\n",
    "        0.986, 1.462, 0.001, 0.057, 0.013])\n",
    "data = [d for d in data if d <= np.median(data)*median_multiplier]\n",
    "data"
   ]
  },
  {
   "cell_type": "code",
   "execution_count": 49,
   "metadata": {},
   "outputs": [
    {
     "data": {
      "image/png": "[encoded data removed]",
      "text/plain": [
       "<matplotlib.figure.Figure at 0x1a15265c18>"
      ]
     },
     "metadata": {},
     "output_type": "display_data"
    }
   ],
   "source": [
    "import numpy as np \n",
    "import pylab \n",
    "import scipy.stats as stats\n",
    " \n",
    "stats.probplot(data, dist=stats.expon, plot=pylab)\n",
    "pylab.show()"
   ]
  },
  {
   "cell_type": "code",
   "execution_count": 62,
   "metadata": {},
   "outputs": [
    {
     "name": "stdout",
     "output_type": "stream",
     "text": [
      "67\n",
      "67\n"
     ]
    },
    {
     "data": {
      "image/png": "[encoded data removed]",
      "text/plain": [
       "<matplotlib.figure.Figure at 0x1a15c19da0>"
      ]
     },
     "metadata": {},
     "output_type": "display_data"
    }
   ],
   "source": [
    "data = [0.05, 0.227, 0.229, 0.525, 0.615, 1.28, 0.696, 0.078, 0.401, 0.732, 0.231, \\\n",
    "0.509, 0.053, 1.2, 0.003, 0.016, 0.004, 0.991, 0.989, 0.918, 2.4, 0.987, \\\n",
    "0.99, 2.529, 0.019, 1.979, 0.868, 1.097, 0.009, 0.991, 0.961, 0.209, 1.681, 0.969, \\\n",
    "1.982, 0.987, 0.008, 1.541, 0.857, 2.965, 5.493, 0.467, 1.775, \\\n",
    "0.4, 1.519, 2.897, 0.118, 2.763, 0.645, 0.239, 0.998, 0.981, 0.183, 0.99, 0.989, \\\n",
    "0.365, 0.988, 0.336, 0.974, 1.308, 2.053, 2.311, 0.563, 1.365, 1.93, 0.729, 0.571]\n",
    "\n",
    "print(len(data))\n",
    "\n",
    "data = [d for d in data if d <= np.median(data)*median_multiplier]\n",
    "print(len(data))\n",
    "import numpy as np \n",
    "import pylab \n",
    "import scipy.stats as stats\n",
    " \n",
    "stats.probplot(data, dist=stats.expon, plot=pylab)\n",
    "pylab.show()"
   ]
  },
  {
   "cell_type": "code",
   "execution_count": 38,
   "metadata": {},
   "outputs": [
    {
     "data": {
      "text/plain": [
       "[0.002,\n",
       " 0.003,\n",
       " 0.005,\n",
       " 0.028,\n",
       " 0.083,\n",
       " 0.088,\n",
       " 0.106,\n",
       " 0.161,\n",
       " 0.294,\n",
       " 0.296,\n",
       " 0.315,\n",
       " 0.337,\n",
       " 0.341,\n",
       " 0.346,\n",
       " 0.367,\n",
       " 0.378,\n",
       " 0.392,\n",
       " 0.395,\n",
       " 0.418,\n",
       " 0.421,\n",
       " 0.424,\n",
       " 0.444,\n",
       " 0.457,\n",
       " 0.477,\n",
       " 0.483,\n",
       " 0.504,\n",
       " 0.518,\n",
       " 0.528,\n",
       " 0.539,\n",
       " 0.548,\n",
       " 0.557,\n",
       " 0.662,\n",
       " 0.668,\n",
       " 0.67,\n",
       " 0.681,\n",
       " 0.708,\n",
       " 0.742,\n",
       " 0.812,\n",
       " 0.838,\n",
       " 0.861,\n",
       " 0.884,\n",
       " 0.913,\n",
       " 0.966,\n",
       " 1.058,\n",
       " 1.132,\n",
       " 1.221,\n",
       " 1.402,\n",
       " 1.456,\n",
       " 1.755,\n",
       " 1.959,\n",
       " 2.012,\n",
       " 2.222]"
      ]
     },
     "execution_count": 38,
     "metadata": {},
     "output_type": "execute_result"
    }
   ],
   "source": [
    "data = sorted([0.161, 0.083, 0.424, 0.457, 0.966, 0.444, 0.392, 0.395, 0.341, \\\n",
    "         1.058, 0.518, 0.838, 0.477, 0.557, 0.548, 2.222, 0.294, 0.668, \\\n",
    "         0.504, 0.528, 0.483, 1.755, 0.742, 0.421, 0.812, 0.337, 0.418, \\\n",
    "         0.367, 1.132, 0.708, 0.662, 0.378, 1.402, 0.913, 0.346, 1.959, \\\n",
    "         0.539, 1.221, 0.681, 0.005, 0.003, 0.002, 0.028, 2.012, 0.861, \\\n",
    "         0.67, 0.315, 0.884, 0.296, 0.088, 0.106, 1.456])\n",
    "\n",
    "data"
   ]
  },
  {
   "cell_type": "code",
   "execution_count": 39,
   "metadata": {},
   "outputs": [
    {
     "data": {
      "image/png": "[encoded data removed]",
      "text/plain": [
       "<matplotlib.figure.Figure at 0x1a15c67438>"
      ]
     },
     "metadata": {},
     "output_type": "display_data"
    }
   ],
   "source": [
    "import numpy as np \n",
    "import pylab \n",
    "import scipy.stats as stats\n",
    " \n",
    "stats.probplot(data, dist=stats.expon, plot=pylab)\n",
    "pylab.show()"
   ]
  },
  {
   "cell_type": "code",
   "execution_count": null,
   "metadata": {
    "collapsed": true
   },
   "outputs": [],
   "source": []
  }
 ],
 "metadata": {
  "kernelspec": {
   "display_name": "Python 3",
   "language": "python",
   "name": "python3"
  },
  "language_info": {
   "codemirror_mode": {
    "name": "ipython",
    "version": 3
   },
   "file_extension": ".py",
   "mimetype": "text/x-python",
   "name": "python",
   "nbconvert_exporter": "python",
   "pygments_lexer": "ipython3",
   "version": "3.6.3"
  }
 },
 "nbformat": 4,
 "nbformat_minor": 2
}
