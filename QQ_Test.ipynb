{
 "cells": [
  {
   "cell_type": "code",
   "execution_count": 3,
   "metadata": {},
   "outputs": [],
   "source": [
    "import asyncio\n",
    "from copra.websocket import Channel, Client\n",
    "import matplotlib.pyplot as plt\n",
    "from collections import OrderedDict\n",
    "from time import sleep\n",
    "from dateutil import parser\n",
    "import copy\n",
    "import datetime\n",
    "import itertools\n",
    "from operator import itemgetter\n",
    "import numpy as np\n",
    "from dateutil.tz import tzutc\n",
    "import math\n",
    "import pytz\n",
    "from pytz import timezone\n",
    "import dill\n",
    "import pylab \n",
    "import scipy.stats as stats"
   ]
  },
  {
   "cell_type": "code",
   "execution_count": null,
   "metadata": {
    "collapsed": true
   },
   "outputs": [],
   "source": [
    "dill.load_session('notebook_env.db')"
   ]
  },
  {
   "cell_type": "code",
   "execution_count": 57,
   "metadata": {},
   "outputs": [],
   "source": [
    "n = 1000000\n",
    "exponential_dist = sorted([np.random.exponential() for _ in range(n)])\n",
    "med = np.median(exponential_dist)\n",
    "outlier_cutoff = exponential_dist[int(n*0.99)-1]\n",
    "median_multiplier = outlier_cutoff / med\n",
    "median_multiplier"
   ]
  },
  {
   "cell_type": "code",
   "execution_count": null,
   "metadata": {
    "collapsed": true
   },
   "outputs": [],
   "source": [
    "def without_outliers(data):\n",
    "    return [d for d in data if d <= np.median(data)*median_multiplier]\n",
    "    \n",
    "for k,v in time_between_events_pos.items():\n",
    "    for size,times in v.items():\n",
    "        print(\"k = {}, size = {}\".format(k,size))\n",
    "        num_all_observations = len(times)\n",
    "        print(\"Number of positive jump times: {}\".format(num_all_observations))\n",
    "        times = without_outliers(times)\n",
    "        num_data_points = len(times)\n",
    "        print(\"Number of outliers: {}\".format(num_data_points - num_all_observations))\n",
    "        if num_data_points < 10:\n",
    "            continue\n",
    "        stats.probplot(data, dist=stats.expon, plot=pylab)\n",
    "        pylab.show()\n",
    "        print(\"\\n\")"
   ]
  },
  {
   "cell_type": "code",
   "execution_count": null,
   "metadata": {
    "collapsed": true
   },
   "outputs": [],
   "source": [
    "for k,v in time_between_events_neg.items():\n",
    "    for size,times in v.items():\n",
    "        print(\"k = {}, size = {}\".format(k,size))\n",
    "        num_all_observations = len(times)\n",
    "        print(\"Number of positive jump times: {}\".format(num_all_observations))\n",
    "        times = without_outliers(times)\n",
    "        num_data_points = len(times)\n",
    "        print(\"Number of outliers: {}\".format(num_data_points - num_all_observations))\n",
    "        if num_data_points < 10:\n",
    "            continue\n",
    "        stats.probplot(data, dist=stats.expon, plot=pylab)\n",
    "        pylab.show()\n",
    "        print(\"\\n\")"
   ]
  },
  {
   "cell_type": "code",
   "execution_count": 60,
   "metadata": {},
   "outputs": [
    {
     "data": {
      "text/plain": [
       "[0.001,\n",
       " 0.001,\n",
       " 0.013,\n",
       " 0.016,\n",
       " 0.028,\n",
       " 0.029,\n",
       " 0.056,\n",
       " 0.057,\n",
       " 0.059,\n",
       " 0.091,\n",
       " 0.218,\n",
       " 0.222,\n",
       " 0.29,\n",
       " 0.338,\n",
       " 0.642,\n",
       " 0.984,\n",
       " 0.986,\n",
       " 0.989,\n",
       " 0.992,\n",
       " 1.011,\n",
       " 1.462]"
      ]
     },
     "execution_count": 60,
     "metadata": {},
     "output_type": "execute_result"
    }
   ],
   "source": [
    "data = sorted([0.056, 0.059, 0.016, 0.29, 1.011, \\\n",
    "        0.001, 0.029, 0.028, 0.218, .338, \\\n",
    "        0.222, 0.642, 1.978, 0.989, 0.992, 0.984, 0.091, 1.98, \\\n",
    "        0.986, 1.462, 0.001, 0.057, 0.013])\n",
    "data = [d for d in data if d <= np.median(data)*median_multiplier]\n",
    "data"
   ]
  },
  {
   "cell_type": "code",
   "execution_count": 49,
   "metadata": {},
   "outputs": [
    {
     "data": {
      "image/png": "[encoded data removed]",
      "text/plain": [
       "<matplotlib.figure.Figure at 0x1a15265c18>"
      ]
     },
     "metadata": {},
     "output_type": "display_data"
    }
   ],
   "source": [
    "import numpy as np \n",
    "import pylab \n",
    "import scipy.stats as stats\n",
    " \n",
    "stats.probplot(data, dist=stats.expon, plot=pylab)\n",
    "pylab.show()"
   ]
  },
  {
   "cell_type": "code",
   "execution_count": 62,
   "metadata": {},
   "outputs": [
    {
     "name": "stdout",
     "output_type": "stream",
     "text": [
      "67\n",
      "67\n"
     ]
    },
    {
     "data": {
      "image/png": "[encoded data removed]",
      "text/plain": [
       "<matplotlib.figure.Figure at 0x1a15c19da0>"
      ]
     },
     "metadata": {},
     "output_type": "display_data"
    }
   ],
   "source": [
    "data = [0.05, 0.227, 0.229, 0.525, 0.615, 1.28, 0.696, 0.078, 0.401, 0.732, 0.231, \\\n",
    "0.509, 0.053, 1.2, 0.003, 0.016, 0.004, 0.991, 0.989, 0.918, 2.4, 0.987, \\\n",
    "0.99, 2.529, 0.019, 1.979, 0.868, 1.097, 0.009, 0.991, 0.961, 0.209, 1.681, 0.969, \\\n",
    "1.982, 0.987, 0.008, 1.541, 0.857, 2.965, 5.493, 0.467, 1.775, \\\n",
    "0.4, 1.519, 2.897, 0.118, 2.763, 0.645, 0.239, 0.998, 0.981, 0.183, 0.99, 0.989, \\\n",
    "0.365, 0.988, 0.336, 0.974, 1.308, 2.053, 2.311, 0.563, 1.365, 1.93, 0.729, 0.571]\n",
    "\n",
    "print(len(data))\n",
    "\n",
    "data = [d for d in data if d <= np.median(data)*median_multiplier]\n",
    "print(len(data))\n",
    "import numpy as np \n",
    "import pylab \n",
    "import scipy.stats as stats\n",
    " \n",
    "stats.probplot(data, dist=stats.expon, plot=pylab)\n",
    "pylab.show()"
   ]
  },
  {
   "cell_type": "code",
   "execution_count": 38,
   "metadata": {},
   "outputs": [
    {
     "data": {
      "text/plain": [
       "[0.002,\n",
       " 0.003,\n",
       " 0.005,\n",
       " 0.028,\n",
       " 0.083,\n",
       " 0.088,\n",
       " 0.106,\n",
       " 0.161,\n",
       " 0.294,\n",
       " 0.296,\n",
       " 0.315,\n",
       " 0.337,\n",
       " 0.341,\n",
       " 0.346,\n",
       " 0.367,\n",
       " 0.378,\n",
       " 0.392,\n",
       " 0.395,\n",
       " 0.418,\n",
       " 0.421,\n",
       " 0.424,\n",
       " 0.444,\n",
       " 0.457,\n",
       " 0.477,\n",
       " 0.483,\n",
       " 0.504,\n",
       " 0.518,\n",
       " 0.528,\n",
       " 0.539,\n",
       " 0.548,\n",
       " 0.557,\n",
       " 0.662,\n",
       " 0.668,\n",
       " 0.67,\n",
       " 0.681,\n",
       " 0.708,\n",
       " 0.742,\n",
       " 0.812,\n",
       " 0.838,\n",
       " 0.861,\n",
       " 0.884,\n",
       " 0.913,\n",
       " 0.966,\n",
       " 1.058,\n",
       " 1.132,\n",
       " 1.221,\n",
       " 1.402,\n",
       " 1.456,\n",
       " 1.755,\n",
       " 1.959,\n",
       " 2.012,\n",
       " 2.222]"
      ]
     },
     "execution_count": 38,
     "metadata": {},
     "output_type": "execute_result"
    }
   ],
   "source": [
    "data = sorted([0.161, 0.083, 0.424, 0.457, 0.966, 0.444, 0.392, 0.395, 0.341, \\\n",
    "         1.058, 0.518, 0.838, 0.477, 0.557, 0.548, 2.222, 0.294, 0.668, \\\n",
    "         0.504, 0.528, 0.483, 1.755, 0.742, 0.421, 0.812, 0.337, 0.418, \\\n",
    "         0.367, 1.132, 0.708, 0.662, 0.378, 1.402, 0.913, 0.346, 1.959, \\\n",
    "         0.539, 1.221, 0.681, 0.005, 0.003, 0.002, 0.028, 2.012, 0.861, \\\n",
    "         0.67, 0.315, 0.884, 0.296, 0.088, 0.106, 1.456])\n",
    "\n",
    "data"
   ]
  },
  {
   "cell_type": "code",
   "execution_count": 39,
   "metadata": {},
   "outputs": [
    {
     "data": {
      "image/png": "[encoded data removed]",
      "text/plain": [
       "<matplotlib.figure.Figure at 0x1a15c67438>"
      ]
     },
     "metadata": {},
     "output_type": "display_data"
    }
   ],
   "source": [
    "import numpy as np \n",
    "import pylab \n",
    "import scipy.stats as stats\n",
    " \n",
    "stats.probplot(data, dist=stats.expon, plot=pylab)\n",
    "pylab.show()"
   ]
  },
  {
   "cell_type": "code",
   "execution_count": null,
   "metadata": {
    "collapsed": true
   },
   "outputs": [],
   "source": []
  }
 ],
 "metadata": {
  "kernelspec": {
   "display_name": "Python 3",
   "language": "python",
   "name": "python3"
  },
  "language_info": {
   "codemirror_mode": {
    "name": "ipython",
    "version": 3
   },
   "file_extension": ".py",
   "mimetype": "text/x-python",
   "name": "python",
   "nbconvert_exporter": "python",
   "pygments_lexer": "ipython3",
   "version": "3.6.3"
  }
 },
 "nbformat": 4,
 "nbformat_minor": 2
}
